{
 "cells": [
  {
   "cell_type": "markdown",
   "metadata": {},
   "source": [
    "# 2_Extract"
   ]
  },
  {
   "cell_type": "markdown",
   "metadata": {},
   "source": [
    "In this notebook I will create new variables and check for redundant variables that i can exclude "
   ]
  },
  {
   "cell_type": "markdown",
   "metadata": {},
   "source": [
    "# Import libraries\n",
    "Import the necessary libraries that we are going to use further on."
   ]
  },
  {
   "cell_type": "code",
   "execution_count": 1,
   "metadata": {},
   "outputs": [],
   "source": [
    "import pandas as pd\n",
    "import numpy as np\n",
    "import function_utils as futils\n",
    "pd.set_option('display.float_format', '{:.2f}'.format) # disable scientific notation\n",
    "pd.set_option('display.max_rows', None) # display all rows"
   ]
  },
  {
   "cell_type": "markdown",
   "metadata": {},
   "source": [
    "# Import Dataset\n",
    "Import the  dataset"
   ]
  },
  {
   "cell_type": "code",
   "execution_count": 2,
   "metadata": {},
   "outputs": [
    {
     "data": {
      "text/html": [
       "<div>\n",
       "<style scoped>\n",
       "    .dataframe tbody tr th:only-of-type {\n",
       "        vertical-align: middle;\n",
       "    }\n",
       "\n",
       "    .dataframe tbody tr th {\n",
       "        vertical-align: top;\n",
       "    }\n",
       "\n",
       "    .dataframe thead th {\n",
       "        text-align: right;\n",
       "    }\n",
       "</style>\n",
       "<table border=\"1\" class=\"dataframe\">\n",
       "  <thead>\n",
       "    <tr style=\"text-align: right;\">\n",
       "      <th></th>\n",
       "      <th>vehicle_ID</th>\n",
       "      <th>selling_country</th>\n",
       "      <th>buyer_country</th>\n",
       "      <th>make</th>\n",
       "      <th>model</th>\n",
       "      <th>mileage</th>\n",
       "      <th>body_type</th>\n",
       "      <th>fuel_type</th>\n",
       "      <th>colour</th>\n",
       "      <th>registration_date</th>\n",
       "      <th>...</th>\n",
       "      <th>b2c_price</th>\n",
       "      <th>stock_turnover</th>\n",
       "      <th>selling_year</th>\n",
       "      <th>selling_month</th>\n",
       "      <th>selling_day</th>\n",
       "      <th>registration_year</th>\n",
       "      <th>registration_month</th>\n",
       "      <th>registration_day</th>\n",
       "      <th>deviation_b2B</th>\n",
       "      <th>deviation_b2C</th>\n",
       "    </tr>\n",
       "  </thead>\n",
       "  <tbody>\n",
       "    <tr>\n",
       "      <th>0</th>\n",
       "      <td>V000001</td>\n",
       "      <td>IT</td>\n",
       "      <td>IT</td>\n",
       "      <td>Toyota</td>\n",
       "      <td>4Runner</td>\n",
       "      <td>138366</td>\n",
       "      <td>SUV</td>\n",
       "      <td>Electric</td>\n",
       "      <td>Blue</td>\n",
       "      <td>2023-12-16</td>\n",
       "      <td>...</td>\n",
       "      <td>15797.47</td>\n",
       "      <td>26</td>\n",
       "      <td>2024</td>\n",
       "      <td>12</td>\n",
       "      <td>15</td>\n",
       "      <td>2023</td>\n",
       "      <td>12</td>\n",
       "      <td>16</td>\n",
       "      <td>0.15</td>\n",
       "      <td>-0.06</td>\n",
       "    </tr>\n",
       "    <tr>\n",
       "      <th>1</th>\n",
       "      <td>V000002</td>\n",
       "      <td>PT</td>\n",
       "      <td>PT</td>\n",
       "      <td>Chevrolet</td>\n",
       "      <td>Equinox</td>\n",
       "      <td>111565</td>\n",
       "      <td>SUV</td>\n",
       "      <td>Diesel</td>\n",
       "      <td>Silver</td>\n",
       "      <td>2020-05-11</td>\n",
       "      <td>...</td>\n",
       "      <td>10743.26</td>\n",
       "      <td>53</td>\n",
       "      <td>2024</td>\n",
       "      <td>5</td>\n",
       "      <td>10</td>\n",
       "      <td>2020</td>\n",
       "      <td>5</td>\n",
       "      <td>11</td>\n",
       "      <td>0.12</td>\n",
       "      <td>-0.12</td>\n",
       "    </tr>\n",
       "    <tr>\n",
       "      <th>2</th>\n",
       "      <td>V000003</td>\n",
       "      <td>ES</td>\n",
       "      <td>ES</td>\n",
       "      <td>Chevrolet</td>\n",
       "      <td>Equinox</td>\n",
       "      <td>139601</td>\n",
       "      <td>SUV</td>\n",
       "      <td>Electric</td>\n",
       "      <td>Black</td>\n",
       "      <td>2023-03-21</td>\n",
       "      <td>...</td>\n",
       "      <td>16305.35</td>\n",
       "      <td>46</td>\n",
       "      <td>2024</td>\n",
       "      <td>3</td>\n",
       "      <td>20</td>\n",
       "      <td>2023</td>\n",
       "      <td>3</td>\n",
       "      <td>21</td>\n",
       "      <td>0.12</td>\n",
       "      <td>-0.13</td>\n",
       "    </tr>\n",
       "    <tr>\n",
       "      <th>3</th>\n",
       "      <td>V000004</td>\n",
       "      <td>FR</td>\n",
       "      <td>FR</td>\n",
       "      <td>Porsche</td>\n",
       "      <td>Boxster</td>\n",
       "      <td>144300</td>\n",
       "      <td>Convertible</td>\n",
       "      <td>CNG</td>\n",
       "      <td>White</td>\n",
       "      <td>2015-10-02</td>\n",
       "      <td>...</td>\n",
       "      <td>18029.74</td>\n",
       "      <td>98</td>\n",
       "      <td>2024</td>\n",
       "      <td>9</td>\n",
       "      <td>29</td>\n",
       "      <td>2015</td>\n",
       "      <td>10</td>\n",
       "      <td>2</td>\n",
       "      <td>-0.10</td>\n",
       "      <td>-0.14</td>\n",
       "    </tr>\n",
       "    <tr>\n",
       "      <th>4</th>\n",
       "      <td>V000005</td>\n",
       "      <td>DE</td>\n",
       "      <td>DE</td>\n",
       "      <td>Subaru</td>\n",
       "      <td>Impreza</td>\n",
       "      <td>144016</td>\n",
       "      <td>Sedan</td>\n",
       "      <td>CNG</td>\n",
       "      <td>Grey</td>\n",
       "      <td>2014-03-15</td>\n",
       "      <td>...</td>\n",
       "      <td>5539.80</td>\n",
       "      <td>50</td>\n",
       "      <td>2024</td>\n",
       "      <td>3</td>\n",
       "      <td>12</td>\n",
       "      <td>2014</td>\n",
       "      <td>3</td>\n",
       "      <td>15</td>\n",
       "      <td>0.03</td>\n",
       "      <td>-0.16</td>\n",
       "    </tr>\n",
       "  </tbody>\n",
       "</table>\n",
       "<p>5 rows × 25 columns</p>\n",
       "</div>"
      ],
      "text/plain": [
       "  vehicle_ID selling_country buyer_country       make    model  mileage  \\\n",
       "0    V000001              IT            IT     Toyota  4Runner   138366   \n",
       "1    V000002              PT            PT  Chevrolet  Equinox   111565   \n",
       "2    V000003              ES            ES  Chevrolet  Equinox   139601   \n",
       "3    V000004              FR            FR    Porsche  Boxster   144300   \n",
       "4    V000005              DE            DE     Subaru  Impreza   144016   \n",
       "\n",
       "     body_type fuel_type  colour registration_date  ... b2c_price  \\\n",
       "0          SUV  Electric    Blue        2023-12-16  ...  15797.47   \n",
       "1          SUV    Diesel  Silver        2020-05-11  ...  10743.26   \n",
       "2          SUV  Electric   Black        2023-03-21  ...  16305.35   \n",
       "3  Convertible       CNG   White        2015-10-02  ...  18029.74   \n",
       "4        Sedan       CNG    Grey        2014-03-15  ...   5539.80   \n",
       "\n",
       "   stock_turnover selling_year  selling_month  selling_day  registration_year  \\\n",
       "0              26         2024             12           15               2023   \n",
       "1              53         2024              5           10               2020   \n",
       "2              46         2024              3           20               2023   \n",
       "3              98         2024              9           29               2015   \n",
       "4              50         2024              3           12               2014   \n",
       "\n",
       "   registration_month  registration_day  deviation_b2B  deviation_b2C  \n",
       "0                  12                16           0.15          -0.06  \n",
       "1                   5                11           0.12          -0.12  \n",
       "2                   3                21           0.12          -0.13  \n",
       "3                  10                 2          -0.10          -0.14  \n",
       "4                   3                15           0.03          -0.16  \n",
       "\n",
       "[5 rows x 25 columns]"
      ]
     },
     "metadata": {},
     "output_type": "display_data"
    }
   ],
   "source": [
    "# Read the pickle file 'df_preprocessed.pkl' and store the data in a DataFrame called df\n",
    "df = pd.read_pickle('data_preprocessed.pkl')\n",
    "\n",
    "# Create a copy of the df DataFrame and assign it to preprocessed_df\n",
    "preprocessed_df = df.copy()\n",
    "\n",
    "# Display the first 5 rows of the case_study_df DataFrame\n",
    "display(preprocessed_df.head(5))"
   ]
  },
  {
   "cell_type": "code",
   "execution_count": 3,
   "metadata": {},
   "outputs": [
    {
     "data": {
      "text/plain": [
       "vehicle_ID                    object\n",
       "selling_country               object\n",
       "buyer_country                 object\n",
       "make                          object\n",
       "model                         object\n",
       "mileage                        int64\n",
       "body_type                     object\n",
       "fuel_type                     object\n",
       "colour                        object\n",
       "registration_date     datetime64[ns]\n",
       "selling_date          datetime64[ns]\n",
       "selling_price                float64\n",
       "condition_grade               object\n",
       "conversion_rate              float64\n",
       "b2b_price                    float64\n",
       "b2c_price                    float64\n",
       "stock_turnover                 int64\n",
       "selling_year                   int64\n",
       "selling_month                  int64\n",
       "selling_day                    int64\n",
       "registration_year              int64\n",
       "registration_month             int64\n",
       "registration_day               int64\n",
       "deviation_b2B                float64\n",
       "deviation_b2C                float64\n",
       "dtype: object"
      ]
     },
     "execution_count": 3,
     "metadata": {},
     "output_type": "execute_result"
    }
   ],
   "source": [
    "# Check if data types were preserved\n",
    "preprocessed_df.dtypes"
   ]
  },
  {
   "cell_type": "markdown",
   "metadata": {},
   "source": [
    "# 1. Feature Extraction\n",
    "In this section, some new features will be calculated based on the variables we already have"
   ]
  },
  {
   "cell_type": "markdown",
   "metadata": {},
   "source": [
    "## 1.1 Age of the vehicle at the time of sale"
   ]
  },
  {
   "cell_type": "markdown",
   "metadata": {},
   "source": [
    "Calculate the age of the vehicle at the time of sale by subtracting the registration year from the sale year. Vehicles in the leasing segment are typically newer. Calculating age helps confirm whether vehicles from this vendor align with this profile."
   ]
  },
  {
   "cell_type": "code",
   "execution_count": 4,
   "metadata": {},
   "outputs": [],
   "source": [
    "# Function to calculate precise month difference\n",
    "def calculate_months_diff(start_date, end_date):\n",
    "    return (end_date.year - start_date.year) * 12 + (end_date.month - start_date.month) + \\\n",
    "           np.sign((end_date.day - start_date.day)) * 0.5  # Adjust for partial months\n",
    "\n",
    "# Apply the function \n",
    "preprocessed_df['vehicle_age_sale_time_months'] = preprocessed_df.apply(lambda x: calculate_months_diff(x['registration_date'], x['selling_date']), axis=1)\n"
   ]
  },
  {
   "cell_type": "code",
   "execution_count": 5,
   "metadata": {},
   "outputs": [
    {
     "data": {
      "text/plain": [
       "count   10002.00\n",
       "mean       66.13\n",
       "std        34.42\n",
       "min        11.50\n",
       "25%        35.50\n",
       "50%        71.50\n",
       "75%        95.50\n",
       "max       179.50\n",
       "Name: vehicle_age_sale_time_months, dtype: float64"
      ]
     },
     "execution_count": 5,
     "metadata": {},
     "output_type": "execute_result"
    }
   ],
   "source": [
    "# Check the new variable summary stats\n",
    "preprocessed_df['vehicle_age_sale_time_months'].describe() "
   ]
  },
  {
   "cell_type": "markdown",
   "metadata": {},
   "source": [
    "## 1.2 Price Deviation (B2B and B2C)\n",
    "\n",
    "Already calculated in 1_Preprocess notebook\n",
    "\n",
    "Evaluates how selling prices compare to market benchmarks. High positive deviations suggest strong pricing performance. Comparing deviations for the leasing segment vs. other segments highlights opportunities or risks in adopting the new vendor."
   ]
  },
  {
   "cell_type": "markdown",
   "metadata": {},
   "source": [
    "## 1.3  Price to mileage ratio\n",
    "\n",
    "A high price-to-mileage ratio often indicates vehicles that retain value well. Leasing vehicles generally perform better here due to lower mileage."
   ]
  },
  {
   "cell_type": "code",
   "execution_count": 6,
   "metadata": {},
   "outputs": [],
   "source": [
    "preprocessed_df['price_to_mileage_ratio'] = preprocessed_df['selling_price'] / preprocessed_df['mileage']\n"
   ]
  },
  {
   "cell_type": "markdown",
   "metadata": {},
   "source": [
    "## 1.4 Leasing Segment\n",
    "\n",
    "Classify vehicles into leasing or non-leasing segments based on Age, Mileage and Model"
   ]
  },
  {
   "cell_type": "markdown",
   "metadata": {},
   "source": [
    "### 1.4.1 Age"
   ]
  },
  {
   "cell_type": "markdown",
   "metadata": {},
   "source": [
    "Here i will check the distribution of the vehicle's age by decile to see in which value i will set the treshold for considering a leasing car in the leasing segment"
   ]
  },
  {
   "cell_type": "code",
   "execution_count": 7,
   "metadata": {},
   "outputs": [],
   "source": [
    "_, age_aggregated = futils.create_decile_segment(\n",
    "    df=preprocessed_df,\n",
    "    sort_column='vehicle_age_sale_time_months',\n",
    "    segment_prefix='decile',\n",
    "    n_deciles=10,\n",
    "    ascending=True,\n",
    "    agg_columns={'vehicle_age_sale_time_months': ['min', 'max', 'mean']}\n",
    ")"
   ]
  },
  {
   "cell_type": "code",
   "execution_count": 8,
   "metadata": {},
   "outputs": [
    {
     "data": {
      "text/html": [
       "<div>\n",
       "<style scoped>\n",
       "    .dataframe tbody tr th:only-of-type {\n",
       "        vertical-align: middle;\n",
       "    }\n",
       "\n",
       "    .dataframe tbody tr th {\n",
       "        vertical-align: top;\n",
       "    }\n",
       "\n",
       "    .dataframe thead th {\n",
       "        text-align: right;\n",
       "    }\n",
       "</style>\n",
       "<table border=\"1\" class=\"dataframe\">\n",
       "  <thead>\n",
       "    <tr style=\"text-align: right;\">\n",
       "      <th></th>\n",
       "      <th>decile_vehicle_age_sale_time_months</th>\n",
       "      <th>vehicle_age_sale_time_months_min</th>\n",
       "      <th>vehicle_age_sale_time_months_max</th>\n",
       "      <th>vehicle_age_sale_time_months_mean</th>\n",
       "    </tr>\n",
       "  </thead>\n",
       "  <tbody>\n",
       "    <tr>\n",
       "      <th>0</th>\n",
       "      <td>1</td>\n",
       "      <td>11.50</td>\n",
       "      <td>23.50</td>\n",
       "      <td>11.97</td>\n",
       "    </tr>\n",
       "    <tr>\n",
       "      <th>1</th>\n",
       "      <td>2</td>\n",
       "      <td>23.50</td>\n",
       "      <td>35.50</td>\n",
       "      <td>23.77</td>\n",
       "    </tr>\n",
       "    <tr>\n",
       "      <th>2</th>\n",
       "      <td>3</td>\n",
       "      <td>35.50</td>\n",
       "      <td>47.50</td>\n",
       "      <td>36.46</td>\n",
       "    </tr>\n",
       "    <tr>\n",
       "      <th>3</th>\n",
       "      <td>4</td>\n",
       "      <td>47.50</td>\n",
       "      <td>59.50</td>\n",
       "      <td>49.01</td>\n",
       "    </tr>\n",
       "    <tr>\n",
       "      <th>4</th>\n",
       "      <td>5</td>\n",
       "      <td>59.50</td>\n",
       "      <td>71.50</td>\n",
       "      <td>60.18</td>\n",
       "    </tr>\n",
       "    <tr>\n",
       "      <th>5</th>\n",
       "      <td>6</td>\n",
       "      <td>71.50</td>\n",
       "      <td>83.50</td>\n",
       "      <td>72.57</td>\n",
       "    </tr>\n",
       "    <tr>\n",
       "      <th>6</th>\n",
       "      <td>7</td>\n",
       "      <td>83.50</td>\n",
       "      <td>95.50</td>\n",
       "      <td>84.30</td>\n",
       "    </tr>\n",
       "    <tr>\n",
       "      <th>7</th>\n",
       "      <td>8</td>\n",
       "      <td>95.50</td>\n",
       "      <td>107.50</td>\n",
       "      <td>95.84</td>\n",
       "    </tr>\n",
       "    <tr>\n",
       "      <th>8</th>\n",
       "      <td>9</td>\n",
       "      <td>107.50</td>\n",
       "      <td>119.50</td>\n",
       "      <td>107.69</td>\n",
       "    </tr>\n",
       "    <tr>\n",
       "      <th>9</th>\n",
       "      <td>10</td>\n",
       "      <td>119.50</td>\n",
       "      <td>179.50</td>\n",
       "      <td>119.56</td>\n",
       "    </tr>\n",
       "  </tbody>\n",
       "</table>\n",
       "</div>"
      ],
      "text/plain": [
       "   decile_vehicle_age_sale_time_months  vehicle_age_sale_time_months_min  \\\n",
       "0                                    1                             11.50   \n",
       "1                                    2                             23.50   \n",
       "2                                    3                             35.50   \n",
       "3                                    4                             47.50   \n",
       "4                                    5                             59.50   \n",
       "5                                    6                             71.50   \n",
       "6                                    7                             83.50   \n",
       "7                                    8                             95.50   \n",
       "8                                    9                            107.50   \n",
       "9                                   10                            119.50   \n",
       "\n",
       "   vehicle_age_sale_time_months_max  vehicle_age_sale_time_months_mean  \n",
       "0                             23.50                              11.97  \n",
       "1                             35.50                              23.77  \n",
       "2                             47.50                              36.46  \n",
       "3                             59.50                              49.01  \n",
       "4                             71.50                              60.18  \n",
       "5                             83.50                              72.57  \n",
       "6                             95.50                              84.30  \n",
       "7                            107.50                              95.84  \n",
       "8                            119.50                             107.69  \n",
       "9                            179.50                             119.56  "
      ]
     },
     "execution_count": 8,
     "metadata": {},
     "output_type": "execute_result"
    }
   ],
   "source": [
    "age_aggregated"
   ]
  },
  {
   "cell_type": "markdown",
   "metadata": {},
   "source": [
    "Age: Will consider leasing the ones with less than 36 months"
   ]
  },
  {
   "cell_type": "markdown",
   "metadata": {},
   "source": [
    "### 1.4.2 Mileage"
   ]
  },
  {
   "cell_type": "markdown",
   "metadata": {},
   "source": [
    "Here i will check the distribution of the vehicle's mileage by decile to see in which value i will set the treshold for considering a leasing car in the leasing segment"
   ]
  },
  {
   "cell_type": "code",
   "execution_count": 9,
   "metadata": {},
   "outputs": [],
   "source": [
    "_, mileage_aggregated = futils.create_decile_segment(\n",
    "    df=preprocessed_df,\n",
    "    sort_column='mileage',\n",
    "    segment_prefix='decile',\n",
    "    n_deciles=10,\n",
    "    ascending=True,\n",
    "    agg_columns={'mileage': ['min', 'max', 'mean']}\n",
    ")"
   ]
  },
  {
   "cell_type": "code",
   "execution_count": 10,
   "metadata": {},
   "outputs": [
    {
     "data": {
      "text/html": [
       "<div>\n",
       "<style scoped>\n",
       "    .dataframe tbody tr th:only-of-type {\n",
       "        vertical-align: middle;\n",
       "    }\n",
       "\n",
       "    .dataframe tbody tr th {\n",
       "        vertical-align: top;\n",
       "    }\n",
       "\n",
       "    .dataframe thead th {\n",
       "        text-align: right;\n",
       "    }\n",
       "</style>\n",
       "<table border=\"1\" class=\"dataframe\">\n",
       "  <thead>\n",
       "    <tr style=\"text-align: right;\">\n",
       "      <th></th>\n",
       "      <th>decile_mileage</th>\n",
       "      <th>mileage_min</th>\n",
       "      <th>mileage_max</th>\n",
       "      <th>mileage_mean</th>\n",
       "    </tr>\n",
       "  </thead>\n",
       "  <tbody>\n",
       "    <tr>\n",
       "      <th>0</th>\n",
       "      <td>1</td>\n",
       "      <td>5016</td>\n",
       "      <td>25078</td>\n",
       "      <td>15118.65</td>\n",
       "    </tr>\n",
       "    <tr>\n",
       "      <th>1</th>\n",
       "      <td>2</td>\n",
       "      <td>25080</td>\n",
       "      <td>43871</td>\n",
       "      <td>34587.33</td>\n",
       "    </tr>\n",
       "    <tr>\n",
       "      <th>2</th>\n",
       "      <td>3</td>\n",
       "      <td>43892</td>\n",
       "      <td>63375</td>\n",
       "      <td>53780.16</td>\n",
       "    </tr>\n",
       "    <tr>\n",
       "      <th>3</th>\n",
       "      <td>4</td>\n",
       "      <td>63380</td>\n",
       "      <td>83591</td>\n",
       "      <td>73590.96</td>\n",
       "    </tr>\n",
       "    <tr>\n",
       "      <th>4</th>\n",
       "      <td>5</td>\n",
       "      <td>83621</td>\n",
       "      <td>103241</td>\n",
       "      <td>93490.71</td>\n",
       "    </tr>\n",
       "    <tr>\n",
       "      <th>5</th>\n",
       "      <td>6</td>\n",
       "      <td>103242</td>\n",
       "      <td>122955</td>\n",
       "      <td>113347.34</td>\n",
       "    </tr>\n",
       "    <tr>\n",
       "      <th>6</th>\n",
       "      <td>7</td>\n",
       "      <td>122968</td>\n",
       "      <td>142447</td>\n",
       "      <td>133050.08</td>\n",
       "    </tr>\n",
       "    <tr>\n",
       "      <th>7</th>\n",
       "      <td>8</td>\n",
       "      <td>142448</td>\n",
       "      <td>162260</td>\n",
       "      <td>152519.12</td>\n",
       "    </tr>\n",
       "    <tr>\n",
       "      <th>8</th>\n",
       "      <td>9</td>\n",
       "      <td>162418</td>\n",
       "      <td>180570</td>\n",
       "      <td>171193.60</td>\n",
       "    </tr>\n",
       "    <tr>\n",
       "      <th>9</th>\n",
       "      <td>10</td>\n",
       "      <td>180591</td>\n",
       "      <td>999999</td>\n",
       "      <td>191131.82</td>\n",
       "    </tr>\n",
       "  </tbody>\n",
       "</table>\n",
       "</div>"
      ],
      "text/plain": [
       "   decile_mileage  mileage_min  mileage_max  mileage_mean\n",
       "0               1         5016        25078      15118.65\n",
       "1               2        25080        43871      34587.33\n",
       "2               3        43892        63375      53780.16\n",
       "3               4        63380        83591      73590.96\n",
       "4               5        83621       103241      93490.71\n",
       "5               6       103242       122955     113347.34\n",
       "6               7       122968       142447     133050.08\n",
       "7               8       142448       162260     152519.12\n",
       "8               9       162418       180570     171193.60\n",
       "9              10       180591       999999     191131.82"
      ]
     },
     "execution_count": 10,
     "metadata": {},
     "output_type": "execute_result"
    }
   ],
   "source": [
    "mileage_aggregated"
   ]
  },
  {
   "cell_type": "markdown",
   "metadata": {},
   "source": [
    "Milleage: Will consider leasing the ones with less than 45k kilometers"
   ]
  },
  {
   "cell_type": "markdown",
   "metadata": {},
   "source": [
    "### 1.4.3 Models"
   ]
  },
  {
   "cell_type": "markdown",
   "metadata": {},
   "source": [
    "Here i could create a model (classification model) to see  which numeric variable (price, conversion_rate, etc) best describes the `model` and use that variable to make the same analysis as before. But for time purposes, i will just assume that price is a good variable to describe the `model`  "
   ]
  },
  {
   "cell_type": "code",
   "execution_count": 11,
   "metadata": {},
   "outputs": [],
   "source": [
    "_, selling_price_aggregated = futils.create_decile_segment(\n",
    "    df=preprocessed_df,\n",
    "    sort_column='selling_price',\n",
    "    segment_prefix='decile',\n",
    "    n_deciles=10,\n",
    "    ascending=True,\n",
    "    agg_columns={'selling_price': ['min', 'max', 'mean']}\n",
    ")"
   ]
  },
  {
   "cell_type": "code",
   "execution_count": 12,
   "metadata": {
    "scrolled": true
   },
   "outputs": [
    {
     "data": {
      "text/html": [
       "<div>\n",
       "<style scoped>\n",
       "    .dataframe tbody tr th:only-of-type {\n",
       "        vertical-align: middle;\n",
       "    }\n",
       "\n",
       "    .dataframe tbody tr th {\n",
       "        vertical-align: top;\n",
       "    }\n",
       "\n",
       "    .dataframe thead th {\n",
       "        text-align: right;\n",
       "    }\n",
       "</style>\n",
       "<table border=\"1\" class=\"dataframe\">\n",
       "  <thead>\n",
       "    <tr style=\"text-align: right;\">\n",
       "      <th></th>\n",
       "      <th>decile_selling_price</th>\n",
       "      <th>selling_price_min</th>\n",
       "      <th>selling_price_max</th>\n",
       "      <th>selling_price_mean</th>\n",
       "    </tr>\n",
       "  </thead>\n",
       "  <tbody>\n",
       "    <tr>\n",
       "      <th>0</th>\n",
       "      <td>1</td>\n",
       "      <td>1111.08</td>\n",
       "      <td>4392.35</td>\n",
       "      <td>3292.58</td>\n",
       "    </tr>\n",
       "    <tr>\n",
       "      <th>1</th>\n",
       "      <td>2</td>\n",
       "      <td>4393.29</td>\n",
       "      <td>6028.51</td>\n",
       "      <td>5246.74</td>\n",
       "    </tr>\n",
       "    <tr>\n",
       "      <th>2</th>\n",
       "      <td>3</td>\n",
       "      <td>6036.69</td>\n",
       "      <td>7539.68</td>\n",
       "      <td>6781.17</td>\n",
       "    </tr>\n",
       "    <tr>\n",
       "      <th>3</th>\n",
       "      <td>4</td>\n",
       "      <td>7540.37</td>\n",
       "      <td>9129.81</td>\n",
       "      <td>8307.48</td>\n",
       "    </tr>\n",
       "    <tr>\n",
       "      <th>4</th>\n",
       "      <td>5</td>\n",
       "      <td>9130.31</td>\n",
       "      <td>10841.08</td>\n",
       "      <td>9947.81</td>\n",
       "    </tr>\n",
       "    <tr>\n",
       "      <th>5</th>\n",
       "      <td>6</td>\n",
       "      <td>10841.43</td>\n",
       "      <td>12898.77</td>\n",
       "      <td>11840.78</td>\n",
       "    </tr>\n",
       "    <tr>\n",
       "      <th>6</th>\n",
       "      <td>7</td>\n",
       "      <td>12902.94</td>\n",
       "      <td>15420.59</td>\n",
       "      <td>14140.22</td>\n",
       "    </tr>\n",
       "    <tr>\n",
       "      <th>7</th>\n",
       "      <td>8</td>\n",
       "      <td>15420.92</td>\n",
       "      <td>19248.65</td>\n",
       "      <td>17185.21</td>\n",
       "    </tr>\n",
       "    <tr>\n",
       "      <th>8</th>\n",
       "      <td>9</td>\n",
       "      <td>19249.61</td>\n",
       "      <td>25762.99</td>\n",
       "      <td>22192.49</td>\n",
       "    </tr>\n",
       "    <tr>\n",
       "      <th>9</th>\n",
       "      <td>10</td>\n",
       "      <td>25775.99</td>\n",
       "      <td>87741.24</td>\n",
       "      <td>34957.01</td>\n",
       "    </tr>\n",
       "  </tbody>\n",
       "</table>\n",
       "</div>"
      ],
      "text/plain": [
       "   decile_selling_price  selling_price_min  selling_price_max  \\\n",
       "0                     1            1111.08            4392.35   \n",
       "1                     2            4393.29            6028.51   \n",
       "2                     3            6036.69            7539.68   \n",
       "3                     4            7540.37            9129.81   \n",
       "4                     5            9130.31           10841.08   \n",
       "5                     6           10841.43           12898.77   \n",
       "6                     7           12902.94           15420.59   \n",
       "7                     8           15420.92           19248.65   \n",
       "8                     9           19249.61           25762.99   \n",
       "9                    10           25775.99           87741.24   \n",
       "\n",
       "   selling_price_mean  \n",
       "0             3292.58  \n",
       "1             5246.74  \n",
       "2             6781.17  \n",
       "3             8307.48  \n",
       "4             9947.81  \n",
       "5            11840.78  \n",
       "6            14140.22  \n",
       "7            17185.21  \n",
       "8            22192.49  \n",
       "9            34957.01  "
      ]
     },
     "execution_count": 12,
     "metadata": {},
     "output_type": "execute_result"
    }
   ],
   "source": [
    "selling_price_aggregated"
   ]
  },
  {
   "cell_type": "markdown",
   "metadata": {},
   "source": [
    "Model: Will consider leasing the models with selling_price greater than 25k "
   ]
  },
  {
   "cell_type": "code",
   "execution_count": 13,
   "metadata": {},
   "outputs": [],
   "source": [
    "# Create 'leasing_segment' \n",
    "leasing_conditions = (\n",
    "    (preprocessed_df['vehicle_age_sale_time_months'] < 36) &\n",
    "    (preprocessed_df['mileage'] < 35000) &\n",
    "    (preprocessed_df['selling_price'] > 25000)\n",
    ")\n",
    "\n",
    "\n",
    "preprocessed_df['leasing_segment'] = np.where(leasing_conditions, 'Leasing', 'Non-Leasing')\n"
   ]
  },
  {
   "cell_type": "code",
   "execution_count": 14,
   "metadata": {},
   "outputs": [
    {
     "name": "stdout",
     "output_type": "stream",
     "text": [
      "Segment Counts:\n",
      " Non-Leasing    9811\n",
      "Leasing         191\n",
      "Name: leasing_segment, dtype: int64\n"
     ]
    }
   ],
   "source": [
    "segment_counts = preprocessed_df['leasing_segment'].value_counts()\n",
    "print(\"Segment Counts:\\n\", segment_counts)"
   ]
  },
  {
   "cell_type": "markdown",
   "metadata": {},
   "source": [
    "#### For analysis purpose, i will now calculate new variables from the numeric ones creating intervals or categories that will help me build the presentation in a clear and easier way for non-technical people to  understand the graphs easier. For the choice of the intervals i will check the distribution by deciles and see which intervals are better"
   ]
  },
  {
   "cell_type": "markdown",
   "metadata": {},
   "source": [
    "## 1.5 Mileage segment\n"
   ]
  },
  {
   "cell_type": "code",
   "execution_count": 15,
   "metadata": {},
   "outputs": [
    {
     "data": {
      "text/plain": [
       "<= 5.000 km             0\n",
       "5.001 - 7.000 km      108\n",
       "7.001 - 10.000 km     156\n",
       ">=10.001 km          9738\n",
       "Name: mileage_segment, dtype: int64"
      ]
     },
     "execution_count": 15,
     "metadata": {},
     "output_type": "execute_result"
    }
   ],
   "source": [
    "# Define the bin edges\n",
    "bins = [0, 5000, 7000, 10000,  np.inf]\n",
    "\n",
    "# Define the labels for the segments\n",
    "labels = ['<= 5.000 km', '5.001 - 7.000 km', '7.001 - 10.000 km', '>=10.001 km']\n",
    "\n",
    "# Create a new column 'mileage_segment' based on the defined bins\n",
    "preprocessed_df['mileage_segment'] = pd.cut(\n",
    "    preprocessed_df['mileage'],\n",
    "    bins=bins,\n",
    "    labels=labels,\n",
    "    right=True,  # Whether to include the right edge (default is True)\n",
    "    include_lowest=True  # Whether the first interval should be left-inclusive\n",
    ")\n",
    "\n",
    "# Verify the segmentation\n",
    "preprocessed_df['mileage_segment'].value_counts().sort_index()"
   ]
  },
  {
   "cell_type": "markdown",
   "metadata": {},
   "source": [
    "## 1.6 Selling price\n"
   ]
  },
  {
   "cell_type": "code",
   "execution_count": 16,
   "metadata": {
    "scrolled": true
   },
   "outputs": [
    {
     "data": {
      "text/plain": [
       "<= 15.000 €          6839\n",
       "15.001 - 25.000 €    2082\n",
       "25.001 - 35.000 €     704\n",
       "35.001 - 50.000 €     306\n",
       ">=50.001 €             71\n",
       "Name: selling_price_segment, dtype: int64"
      ]
     },
     "execution_count": 16,
     "metadata": {},
     "output_type": "execute_result"
    }
   ],
   "source": [
    "# Define the bin edges\n",
    "bins = [0, 15000, 25000, 35000, 50000, np.inf]  # 5 edges for 4 segments\n",
    "\n",
    "labels = ['<= 15.000 €', '15.001 - 25.000 €', '25.001 - 35.000 €', '35.001 - 50.000 €','>=50.001 €']\n",
    "\n",
    "#Create a new column 'selling_price_segment' based on the defined bins\n",
    "preprocessed_df['selling_price_segment'] = pd.cut(\n",
    "    preprocessed_df['selling_price'],\n",
    "    bins=bins,\n",
    "    labels=labels,\n",
    "    right=True,          # Includes the right edge in the bin\n",
    "    include_lowest=True  # Includes the lowest value in the first bin\n",
    ")\n",
    "\n",
    "# Verify the segmentation\n",
    "preprocessed_df['selling_price_segment'].value_counts().sort_index()\n"
   ]
  },
  {
   "cell_type": "markdown",
   "metadata": {},
   "source": [
    "## 1.7 Conversion Rate"
   ]
  },
  {
   "cell_type": "code",
   "execution_count": 17,
   "metadata": {},
   "outputs": [],
   "source": [
    "_, conversion_rate_aggregated = futils.create_decile_segment(\n",
    "    df=preprocessed_df,\n",
    "    sort_column='conversion_rate',\n",
    "    segment_prefix='decile',\n",
    "    n_deciles=10,\n",
    "    ascending=True,\n",
    "    agg_columns={'conversion_rate': ['min', 'max', 'mean']}\n",
    ")"
   ]
  },
  {
   "cell_type": "code",
   "execution_count": 18,
   "metadata": {},
   "outputs": [
    {
     "data": {
      "text/html": [
       "<div>\n",
       "<style scoped>\n",
       "    .dataframe tbody tr th:only-of-type {\n",
       "        vertical-align: middle;\n",
       "    }\n",
       "\n",
       "    .dataframe tbody tr th {\n",
       "        vertical-align: top;\n",
       "    }\n",
       "\n",
       "    .dataframe thead th {\n",
       "        text-align: right;\n",
       "    }\n",
       "</style>\n",
       "<table border=\"1\" class=\"dataframe\">\n",
       "  <thead>\n",
       "    <tr style=\"text-align: right;\">\n",
       "      <th></th>\n",
       "      <th>decile_conversion_rate</th>\n",
       "      <th>conversion_rate_min</th>\n",
       "      <th>conversion_rate_max</th>\n",
       "      <th>conversion_rate_mean</th>\n",
       "    </tr>\n",
       "  </thead>\n",
       "  <tbody>\n",
       "    <tr>\n",
       "      <th>0</th>\n",
       "      <td>1</td>\n",
       "      <td>55.05</td>\n",
       "      <td>76.30</td>\n",
       "      <td>70.20</td>\n",
       "    </tr>\n",
       "    <tr>\n",
       "      <th>1</th>\n",
       "      <td>2</td>\n",
       "      <td>76.30</td>\n",
       "      <td>79.39</td>\n",
       "      <td>77.89</td>\n",
       "    </tr>\n",
       "    <tr>\n",
       "      <th>2</th>\n",
       "      <td>3</td>\n",
       "      <td>79.39</td>\n",
       "      <td>82.10</td>\n",
       "      <td>80.79</td>\n",
       "    </tr>\n",
       "    <tr>\n",
       "      <th>3</th>\n",
       "      <td>4</td>\n",
       "      <td>82.10</td>\n",
       "      <td>84.20</td>\n",
       "      <td>83.16</td>\n",
       "    </tr>\n",
       "    <tr>\n",
       "      <th>4</th>\n",
       "      <td>5</td>\n",
       "      <td>84.20</td>\n",
       "      <td>86.23</td>\n",
       "      <td>85.17</td>\n",
       "    </tr>\n",
       "    <tr>\n",
       "      <th>5</th>\n",
       "      <td>6</td>\n",
       "      <td>86.23</td>\n",
       "      <td>88.34</td>\n",
       "      <td>87.27</td>\n",
       "    </tr>\n",
       "    <tr>\n",
       "      <th>6</th>\n",
       "      <td>7</td>\n",
       "      <td>88.34</td>\n",
       "      <td>90.52</td>\n",
       "      <td>89.42</td>\n",
       "    </tr>\n",
       "    <tr>\n",
       "      <th>7</th>\n",
       "      <td>8</td>\n",
       "      <td>90.52</td>\n",
       "      <td>92.84</td>\n",
       "      <td>91.68</td>\n",
       "    </tr>\n",
       "    <tr>\n",
       "      <th>8</th>\n",
       "      <td>9</td>\n",
       "      <td>92.84</td>\n",
       "      <td>95.84</td>\n",
       "      <td>94.12</td>\n",
       "    </tr>\n",
       "    <tr>\n",
       "      <th>9</th>\n",
       "      <td>10</td>\n",
       "      <td>95.87</td>\n",
       "      <td>100.00</td>\n",
       "      <td>98.71</td>\n",
       "    </tr>\n",
       "  </tbody>\n",
       "</table>\n",
       "</div>"
      ],
      "text/plain": [
       "   decile_conversion_rate  conversion_rate_min  conversion_rate_max  \\\n",
       "0                       1                55.05                76.30   \n",
       "1                       2                76.30                79.39   \n",
       "2                       3                79.39                82.10   \n",
       "3                       4                82.10                84.20   \n",
       "4                       5                84.20                86.23   \n",
       "5                       6                86.23                88.34   \n",
       "6                       7                88.34                90.52   \n",
       "7                       8                90.52                92.84   \n",
       "8                       9                92.84                95.84   \n",
       "9                      10                95.87               100.00   \n",
       "\n",
       "   conversion_rate_mean  \n",
       "0                 70.20  \n",
       "1                 77.89  \n",
       "2                 80.79  \n",
       "3                 83.16  \n",
       "4                 85.17  \n",
       "5                 87.27  \n",
       "6                 89.42  \n",
       "7                 91.68  \n",
       "8                 94.12  \n",
       "9                 98.71  "
      ]
     },
     "execution_count": 18,
     "metadata": {},
     "output_type": "execute_result"
    }
   ],
   "source": [
    "conversion_rate_aggregated"
   ]
  },
  {
   "cell_type": "code",
   "execution_count": 19,
   "metadata": {},
   "outputs": [
    {
     "name": "stdout",
     "output_type": "stream",
     "text": [
      "<= 82.00%          2961\n",
      "82.01 - 88.00 %    2894\n",
      "88.01 - 92.00 %    1779\n",
      ">=92.01 %          2368\n",
      "Name: conversion_rate_segment, dtype: int64\n"
     ]
    }
   ],
   "source": [
    "# Define the bin edges\n",
    "bins = [0, 82, 88, 92, np.inf]  # 5 edges for 4 segments\n",
    "\n",
    "labels = ['<= 82.00%', '82.01 - 88.00 %', '88.01 - 92.00 %', '>=92.01 %']\n",
    "\n",
    "# Create a new column 'selling_price_segment' based on the defined bins\n",
    "preprocessed_df['conversion_rate_segment'] = pd.cut(\n",
    "    preprocessed_df['conversion_rate'],\n",
    "    bins=bins,\n",
    "    labels=labels,\n",
    "    right=True,          # Includes the right edge in the bin\n",
    "    include_lowest=True  # Includes the lowest value in the first bin\n",
    ")\n",
    "\n",
    "# Verify the segmentation\n",
    "segment_counts = preprocessed_df['conversion_rate_segment'].value_counts().sort_index()\n",
    "print(segment_counts)"
   ]
  },
  {
   "cell_type": "markdown",
   "metadata": {},
   "source": [
    "## 1.8 B2B Price"
   ]
  },
  {
   "cell_type": "code",
   "execution_count": 20,
   "metadata": {},
   "outputs": [],
   "source": [
    "_, b2b_price_aggregated = futils.create_decile_segment(\n",
    "    df=preprocessed_df,\n",
    "    sort_column='b2b_price',\n",
    "    segment_prefix='decile',\n",
    "    n_deciles=10,\n",
    "    ascending=True,\n",
    "    agg_columns={'b2b_price': ['min', 'max', 'mean']}\n",
    ")"
   ]
  },
  {
   "cell_type": "code",
   "execution_count": 21,
   "metadata": {},
   "outputs": [
    {
     "data": {
      "text/html": [
       "<div>\n",
       "<style scoped>\n",
       "    .dataframe tbody tr th:only-of-type {\n",
       "        vertical-align: middle;\n",
       "    }\n",
       "\n",
       "    .dataframe tbody tr th {\n",
       "        vertical-align: top;\n",
       "    }\n",
       "\n",
       "    .dataframe thead th {\n",
       "        text-align: right;\n",
       "    }\n",
       "</style>\n",
       "<table border=\"1\" class=\"dataframe\">\n",
       "  <thead>\n",
       "    <tr style=\"text-align: right;\">\n",
       "      <th></th>\n",
       "      <th>decile_b2b_price</th>\n",
       "      <th>b2b_price_min</th>\n",
       "      <th>b2b_price_max</th>\n",
       "      <th>b2b_price_mean</th>\n",
       "    </tr>\n",
       "  </thead>\n",
       "  <tbody>\n",
       "    <tr>\n",
       "      <th>0</th>\n",
       "      <td>1</td>\n",
       "      <td>1089.82</td>\n",
       "      <td>4092.63</td>\n",
       "      <td>3099.90</td>\n",
       "    </tr>\n",
       "    <tr>\n",
       "      <th>1</th>\n",
       "      <td>2</td>\n",
       "      <td>4098.05</td>\n",
       "      <td>5658.02</td>\n",
       "      <td>4921.46</td>\n",
       "    </tr>\n",
       "    <tr>\n",
       "      <th>2</th>\n",
       "      <td>3</td>\n",
       "      <td>5658.43</td>\n",
       "      <td>7068.90</td>\n",
       "      <td>6362.13</td>\n",
       "    </tr>\n",
       "    <tr>\n",
       "      <th>3</th>\n",
       "      <td>4</td>\n",
       "      <td>7072.52</td>\n",
       "      <td>8500.74</td>\n",
       "      <td>7785.82</td>\n",
       "    </tr>\n",
       "    <tr>\n",
       "      <th>4</th>\n",
       "      <td>5</td>\n",
       "      <td>8500.98</td>\n",
       "      <td>10152.42</td>\n",
       "      <td>9298.95</td>\n",
       "    </tr>\n",
       "    <tr>\n",
       "      <th>5</th>\n",
       "      <td>6</td>\n",
       "      <td>10152.46</td>\n",
       "      <td>12072.26</td>\n",
       "      <td>11076.43</td>\n",
       "    </tr>\n",
       "    <tr>\n",
       "      <th>6</th>\n",
       "      <td>7</td>\n",
       "      <td>12074.48</td>\n",
       "      <td>14434.79</td>\n",
       "      <td>13206.29</td>\n",
       "    </tr>\n",
       "    <tr>\n",
       "      <th>7</th>\n",
       "      <td>8</td>\n",
       "      <td>14437.12</td>\n",
       "      <td>17970.35</td>\n",
       "      <td>16082.03</td>\n",
       "    </tr>\n",
       "    <tr>\n",
       "      <th>8</th>\n",
       "      <td>9</td>\n",
       "      <td>17974.22</td>\n",
       "      <td>24304.71</td>\n",
       "      <td>20807.45</td>\n",
       "    </tr>\n",
       "    <tr>\n",
       "      <th>9</th>\n",
       "      <td>10</td>\n",
       "      <td>24323.04</td>\n",
       "      <td>92548.50</td>\n",
       "      <td>33723.81</td>\n",
       "    </tr>\n",
       "  </tbody>\n",
       "</table>\n",
       "</div>"
      ],
      "text/plain": [
       "   decile_b2b_price  b2b_price_min  b2b_price_max  b2b_price_mean\n",
       "0                 1        1089.82        4092.63         3099.90\n",
       "1                 2        4098.05        5658.02         4921.46\n",
       "2                 3        5658.43        7068.90         6362.13\n",
       "3                 4        7072.52        8500.74         7785.82\n",
       "4                 5        8500.98       10152.42         9298.95\n",
       "5                 6       10152.46       12072.26        11076.43\n",
       "6                 7       12074.48       14434.79        13206.29\n",
       "7                 8       14437.12       17970.35        16082.03\n",
       "8                 9       17974.22       24304.71        20807.45\n",
       "9                10       24323.04       92548.50        33723.81"
      ]
     },
     "execution_count": 21,
     "metadata": {},
     "output_type": "execute_result"
    }
   ],
   "source": [
    "b2b_price_aggregated"
   ]
  },
  {
   "cell_type": "code",
   "execution_count": 22,
   "metadata": {},
   "outputs": [
    {
     "name": "stdout",
     "output_type": "stream",
     "text": [
      "<= 15.000 €          7192\n",
      "15.001 - 25.000 €    1883\n",
      "25.001 - 35.000 €     615\n",
      "35.001 - 50.000 €     250\n",
      ">=50.001 €             62\n",
      "Name: b2b_price_segment, dtype: int64\n"
     ]
    }
   ],
   "source": [
    "# Define the bin edges\n",
    "bins = [0, 15000, 25000, 35000, 50000, np.inf]  # 5 edges for 4 segments\n",
    "\n",
    "labels = ['<= 15.000 €', '15.001 - 25.000 €', '25.001 - 35.000 €', '35.001 - 50.000 €','>=50.001 €']\n",
    "\n",
    "# Create a new column 'selling_price_segment' based on the defined bins\n",
    "preprocessed_df['b2b_price_segment'] = pd.cut(\n",
    "    preprocessed_df['b2b_price'],\n",
    "    bins=bins,\n",
    "    labels=labels,\n",
    "    right=True,          # Includes the right edge in the bin\n",
    "    include_lowest=True  # Includes the lowest value in the first bin\n",
    ")\n",
    "\n",
    "# Verify the segmentation\n",
    "segment_counts = preprocessed_df['b2b_price_segment'].value_counts().sort_index()\n",
    "print(segment_counts)"
   ]
  },
  {
   "cell_type": "markdown",
   "metadata": {},
   "source": [
    "## 1.9 B2C Price"
   ]
  },
  {
   "cell_type": "code",
   "execution_count": 23,
   "metadata": {},
   "outputs": [],
   "source": [
    "_, b2c_price_aggregated = futils.create_decile_segment(\n",
    "    df=preprocessed_df,\n",
    "    sort_column='b2c_price',\n",
    "    segment_prefix='decile',\n",
    "    n_deciles=10,\n",
    "    ascending=True,\n",
    "    agg_columns={'b2c_price': ['min', 'max', 'mean']}\n",
    ")"
   ]
  },
  {
   "cell_type": "code",
   "execution_count": 24,
   "metadata": {},
   "outputs": [
    {
     "data": {
      "text/html": [
       "<div>\n",
       "<style scoped>\n",
       "    .dataframe tbody tr th:only-of-type {\n",
       "        vertical-align: middle;\n",
       "    }\n",
       "\n",
       "    .dataframe tbody tr th {\n",
       "        vertical-align: top;\n",
       "    }\n",
       "\n",
       "    .dataframe thead th {\n",
       "        text-align: right;\n",
       "    }\n",
       "</style>\n",
       "<table border=\"1\" class=\"dataframe\">\n",
       "  <thead>\n",
       "    <tr style=\"text-align: right;\">\n",
       "      <th></th>\n",
       "      <th>decile_b2c_price</th>\n",
       "      <th>b2c_price_min</th>\n",
       "      <th>b2c_price_max</th>\n",
       "      <th>b2c_price_mean</th>\n",
       "    </tr>\n",
       "  </thead>\n",
       "  <tbody>\n",
       "    <tr>\n",
       "      <th>0</th>\n",
       "      <td>1</td>\n",
       "      <td>1000.00</td>\n",
       "      <td>4947.19</td>\n",
       "      <td>3728.93</td>\n",
       "    </tr>\n",
       "    <tr>\n",
       "      <th>1</th>\n",
       "      <td>2</td>\n",
       "      <td>4948.01</td>\n",
       "      <td>6817.89</td>\n",
       "      <td>5932.97</td>\n",
       "    </tr>\n",
       "    <tr>\n",
       "      <th>2</th>\n",
       "      <td>3</td>\n",
       "      <td>6819.47</td>\n",
       "      <td>8492.99</td>\n",
       "      <td>7663.82</td>\n",
       "    </tr>\n",
       "    <tr>\n",
       "      <th>3</th>\n",
       "      <td>4</td>\n",
       "      <td>8493.18</td>\n",
       "      <td>10310.64</td>\n",
       "      <td>9392.75</td>\n",
       "    </tr>\n",
       "    <tr>\n",
       "      <th>4</th>\n",
       "      <td>5</td>\n",
       "      <td>10312.68</td>\n",
       "      <td>12195.05</td>\n",
       "      <td>11227.08</td>\n",
       "    </tr>\n",
       "    <tr>\n",
       "      <th>5</th>\n",
       "      <td>6</td>\n",
       "      <td>12195.18</td>\n",
       "      <td>14547.02</td>\n",
       "      <td>13349.78</td>\n",
       "    </tr>\n",
       "    <tr>\n",
       "      <th>6</th>\n",
       "      <td>7</td>\n",
       "      <td>14548.95</td>\n",
       "      <td>17415.87</td>\n",
       "      <td>15918.61</td>\n",
       "    </tr>\n",
       "    <tr>\n",
       "      <th>7</th>\n",
       "      <td>8</td>\n",
       "      <td>17428.74</td>\n",
       "      <td>21670.69</td>\n",
       "      <td>19380.05</td>\n",
       "    </tr>\n",
       "    <tr>\n",
       "      <th>8</th>\n",
       "      <td>9</td>\n",
       "      <td>21678.74</td>\n",
       "      <td>29028.66</td>\n",
       "      <td>25000.54</td>\n",
       "    </tr>\n",
       "    <tr>\n",
       "      <th>9</th>\n",
       "      <td>10</td>\n",
       "      <td>29050.35</td>\n",
       "      <td>103033.82</td>\n",
       "      <td>39736.35</td>\n",
       "    </tr>\n",
       "  </tbody>\n",
       "</table>\n",
       "</div>"
      ],
      "text/plain": [
       "   decile_b2c_price  b2c_price_min  b2c_price_max  b2c_price_mean\n",
       "0                 1        1000.00        4947.19         3728.93\n",
       "1                 2        4948.01        6817.89         5932.97\n",
       "2                 3        6819.47        8492.99         7663.82\n",
       "3                 4        8493.18       10310.64         9392.75\n",
       "4                 5       10312.68       12195.05        11227.08\n",
       "5                 6       12195.18       14547.02        13349.78\n",
       "6                 7       14548.95       17415.87        15918.61\n",
       "7                 8       17428.74       21670.69        19380.05\n",
       "8                 9       21678.74       29028.66        25000.54\n",
       "9                10       29050.35      103033.82        39736.35"
      ]
     },
     "execution_count": 24,
     "metadata": {},
     "output_type": "execute_result"
    }
   ],
   "source": [
    "b2c_price_aggregated"
   ]
  },
  {
   "cell_type": "code",
   "execution_count": 25,
   "metadata": {},
   "outputs": [
    {
     "name": "stdout",
     "output_type": "stream",
     "text": [
      "<= 15.000 €          6183\n",
      "15.001 - 25.000 €    2347\n",
      "25.001 - 35.000 €     904\n",
      "35.001 - 50.000 €     424\n",
      ">=50.001 €            144\n",
      "Name: b2c_price_segment, dtype: int64\n"
     ]
    }
   ],
   "source": [
    "# Define the bin edges\n",
    "bins = [0, 15000, 25000, 35000, 50000, np.inf]  # 5 edges for 4 segments\n",
    "\n",
    "labels = ['<= 15.000 €', '15.001 - 25.000 €', '25.001 - 35.000 €', '35.001 - 50.000 €','>=50.001 €']\n",
    "\n",
    "# Create a new column 'selling_price_segment' based on the defined bins\n",
    "preprocessed_df['b2c_price_segment'] = pd.cut(\n",
    "    preprocessed_df['b2c_price'],\n",
    "    bins=bins,\n",
    "    labels=labels,\n",
    "    right=True,          # Includes the right edge in the bin\n",
    "    include_lowest=True  # Includes the lowest value in the first bin\n",
    ")\n",
    "\n",
    "# Verify the segmentation\n",
    "segment_counts = preprocessed_df['b2c_price_segment'].value_counts().sort_index()\n",
    "print(segment_counts)"
   ]
  },
  {
   "cell_type": "markdown",
   "metadata": {},
   "source": [
    "## 1.9 Stock Turnover"
   ]
  },
  {
   "cell_type": "code",
   "execution_count": 26,
   "metadata": {},
   "outputs": [],
   "source": [
    "_, stock_turnover_aggregated = futils.create_decile_segment(\n",
    "    df=preprocessed_df,\n",
    "    sort_column='stock_turnover',\n",
    "    segment_prefix='decile',\n",
    "    n_deciles=10,\n",
    "    ascending=True,\n",
    "    agg_columns={'stock_turnover': ['min', 'max', 'mean']}\n",
    ")"
   ]
  },
  {
   "cell_type": "code",
   "execution_count": 27,
   "metadata": {},
   "outputs": [
    {
     "data": {
      "text/html": [
       "<div>\n",
       "<style scoped>\n",
       "    .dataframe tbody tr th:only-of-type {\n",
       "        vertical-align: middle;\n",
       "    }\n",
       "\n",
       "    .dataframe tbody tr th {\n",
       "        vertical-align: top;\n",
       "    }\n",
       "\n",
       "    .dataframe thead th {\n",
       "        text-align: right;\n",
       "    }\n",
       "</style>\n",
       "<table border=\"1\" class=\"dataframe\">\n",
       "  <thead>\n",
       "    <tr style=\"text-align: right;\">\n",
       "      <th></th>\n",
       "      <th>decile_stock_turnover</th>\n",
       "      <th>stock_turnover_min</th>\n",
       "      <th>stock_turnover_max</th>\n",
       "      <th>stock_turnover_mean</th>\n",
       "    </tr>\n",
       "  </thead>\n",
       "  <tbody>\n",
       "    <tr>\n",
       "      <th>0</th>\n",
       "      <td>1</td>\n",
       "      <td>15</td>\n",
       "      <td>28</td>\n",
       "      <td>22.74</td>\n",
       "    </tr>\n",
       "    <tr>\n",
       "      <th>1</th>\n",
       "      <td>2</td>\n",
       "      <td>28</td>\n",
       "      <td>35</td>\n",
       "      <td>31.85</td>\n",
       "    </tr>\n",
       "    <tr>\n",
       "      <th>2</th>\n",
       "      <td>3</td>\n",
       "      <td>35</td>\n",
       "      <td>39</td>\n",
       "      <td>37.16</td>\n",
       "    </tr>\n",
       "    <tr>\n",
       "      <th>3</th>\n",
       "      <td>4</td>\n",
       "      <td>39</td>\n",
       "      <td>44</td>\n",
       "      <td>41.59</td>\n",
       "    </tr>\n",
       "    <tr>\n",
       "      <th>4</th>\n",
       "      <td>5</td>\n",
       "      <td>44</td>\n",
       "      <td>48</td>\n",
       "      <td>45.47</td>\n",
       "    </tr>\n",
       "    <tr>\n",
       "      <th>5</th>\n",
       "      <td>6</td>\n",
       "      <td>48</td>\n",
       "      <td>52</td>\n",
       "      <td>49.63</td>\n",
       "    </tr>\n",
       "    <tr>\n",
       "      <th>6</th>\n",
       "      <td>7</td>\n",
       "      <td>52</td>\n",
       "      <td>57</td>\n",
       "      <td>54.02</td>\n",
       "    </tr>\n",
       "    <tr>\n",
       "      <th>7</th>\n",
       "      <td>8</td>\n",
       "      <td>57</td>\n",
       "      <td>62</td>\n",
       "      <td>59.35</td>\n",
       "    </tr>\n",
       "    <tr>\n",
       "      <th>8</th>\n",
       "      <td>9</td>\n",
       "      <td>62</td>\n",
       "      <td>73</td>\n",
       "      <td>66.58</td>\n",
       "    </tr>\n",
       "    <tr>\n",
       "      <th>9</th>\n",
       "      <td>10</td>\n",
       "      <td>73</td>\n",
       "      <td>156</td>\n",
       "      <td>93.03</td>\n",
       "    </tr>\n",
       "  </tbody>\n",
       "</table>\n",
       "</div>"
      ],
      "text/plain": [
       "   decile_stock_turnover  stock_turnover_min  stock_turnover_max  \\\n",
       "0                      1                  15                  28   \n",
       "1                      2                  28                  35   \n",
       "2                      3                  35                  39   \n",
       "3                      4                  39                  44   \n",
       "4                      5                  44                  48   \n",
       "5                      6                  48                  52   \n",
       "6                      7                  52                  57   \n",
       "7                      8                  57                  62   \n",
       "8                      9                  62                  73   \n",
       "9                     10                  73                 156   \n",
       "\n",
       "   stock_turnover_mean  \n",
       "0                22.74  \n",
       "1                31.85  \n",
       "2                37.16  \n",
       "3                41.59  \n",
       "4                45.47  \n",
       "5                49.63  \n",
       "6                54.02  \n",
       "7                59.35  \n",
       "8                66.58  \n",
       "9                93.03  "
      ]
     },
     "execution_count": 27,
     "metadata": {},
     "output_type": "execute_result"
    }
   ],
   "source": [
    "stock_turnover_aggregated"
   ]
  },
  {
   "cell_type": "code",
   "execution_count": 28,
   "metadata": {},
   "outputs": [
    {
     "name": "stdout",
     "output_type": "stream",
     "text": [
      "<= 40 days      3228\n",
      "41 - 50 days    2487\n",
      "51 - 60 days    2001\n",
      ">=61 days       2286\n",
      "Name: stock_turnover_segment, dtype: int64\n"
     ]
    }
   ],
   "source": [
    "# Define the bin edges\n",
    "bins = [0, 40, 50, 60, np.inf]  # 5 edges for 4 segments\n",
    "\n",
    "labels = ['<= 40 days', '41 - 50 days', '51 - 60 days', '>=61 days']\n",
    "\n",
    "#Create a new column 'selling_price_segment' based on the defined bins\n",
    "preprocessed_df['stock_turnover_segment'] = pd.cut(\n",
    "    preprocessed_df['stock_turnover'],\n",
    "    bins=bins,\n",
    "    labels=labels,\n",
    "    right=True,          # Includes the right edge in the bin\n",
    "    include_lowest=True  # Includes the lowest value in the first bin\n",
    ")\n",
    "\n",
    "#Verify the segmentation\n",
    "segment_counts = preprocessed_df['stock_turnover_segment'].value_counts().sort_index()\n",
    "print(segment_counts)"
   ]
  },
  {
   "cell_type": "markdown",
   "metadata": {},
   "source": [
    "## Choosing variables for analysis"
   ]
  },
  {
   "cell_type": "code",
   "execution_count": 29,
   "metadata": {
    "scrolled": true
   },
   "outputs": [],
   "source": [
    "columns_to_drop = [\n",
    "    'mileage',\n",
    "    'vehicle_age_sale_time_months',\n",
    "    'decile_stock_turnover',\n",
    "    'decile_selling_price'\n",
    "]\n",
    "\n",
    "# Identify and drop existing columns\n",
    "existing_columns_to_drop = [col for col in columns_to_drop if col in preprocessed_df.columns]\n",
    "df_segmented = preprocessed_df.drop(columns=existing_columns_to_drop)\n"
   ]
  },
  {
   "cell_type": "code",
   "execution_count": 30,
   "metadata": {},
   "outputs": [
    {
     "data": {
      "text/plain": [
       "vehicle_ID                         object\n",
       "selling_country                    object\n",
       "buyer_country                      object\n",
       "make                               object\n",
       "model                              object\n",
       "body_type                          object\n",
       "fuel_type                          object\n",
       "colour                             object\n",
       "registration_date          datetime64[ns]\n",
       "selling_date               datetime64[ns]\n",
       "selling_price                     float64\n",
       "condition_grade                    object\n",
       "conversion_rate                   float64\n",
       "b2b_price                         float64\n",
       "b2c_price                         float64\n",
       "stock_turnover                      int64\n",
       "selling_year                        int64\n",
       "selling_month                       int64\n",
       "selling_day                         int64\n",
       "registration_year                   int64\n",
       "registration_month                  int64\n",
       "registration_day                    int64\n",
       "deviation_b2B                     float64\n",
       "deviation_b2C                     float64\n",
       "price_to_mileage_ratio            float64\n",
       "leasing_segment                    object\n",
       "mileage_segment                  category\n",
       "selling_price_segment            category\n",
       "conversion_rate_segment          category\n",
       "b2b_price_segment                category\n",
       "b2c_price_segment                category\n",
       "stock_turnover_segment           category\n",
       "dtype: object"
      ]
     },
     "execution_count": 30,
     "metadata": {},
     "output_type": "execute_result"
    }
   ],
   "source": [
    "# Check  data types\n",
    "df_segmented.dtypes"
   ]
  },
  {
   "cell_type": "code",
   "execution_count": 31,
   "metadata": {},
   "outputs": [],
   "source": [
    "# Export dataset as pkl to preserve the data types\n",
    "df_segmented.to_pickle('data_extract.pkl')"
   ]
  },
  {
   "cell_type": "code",
   "execution_count": null,
   "metadata": {},
   "outputs": [],
   "source": []
  }
 ],
 "metadata": {
  "kernelspec": {
   "display_name": "Python 3",
   "language": "python",
   "name": "python3"
  },
  "language_info": {
   "codemirror_mode": {
    "name": "ipython",
    "version": 3
   },
   "file_extension": ".py",
   "mimetype": "text/x-python",
   "name": "python",
   "nbconvert_exporter": "python",
   "pygments_lexer": "ipython3",
   "version": "3.7.3"
  }
 },
 "nbformat": 4,
 "nbformat_minor": 2
}
